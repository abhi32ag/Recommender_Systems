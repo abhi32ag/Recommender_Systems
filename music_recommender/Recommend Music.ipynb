{
 "cells": [
  {
   "cell_type": "code",
   "execution_count": 1,
   "metadata": {
    "collapsed": true
   },
   "outputs": [],
   "source": [
    "import pandas as pd \n",
    "import numpy as np \n",
    "from scipy.sparse import csr_matrix\n",
    "\n",
    "#displaying 3 point decimals \n",
    "pd.set_option('display.float_format', lambda x: '%.3f' % x)"
   ]
  },
  {
   "cell_type": "code",
   "execution_count": 2,
   "metadata": {
    "collapsed": false
   },
   "outputs": [
    {
     "data": {
      "text/html": [
       "<div>\n",
       "<table border=\"1\" class=\"dataframe\">\n",
       "  <thead>\n",
       "    <tr style=\"text-align: right;\">\n",
       "      <th></th>\n",
       "      <th>users</th>\n",
       "      <th>artist</th>\n",
       "      <th>plays</th>\n",
       "    </tr>\n",
       "  </thead>\n",
       "  <tbody>\n",
       "    <tr>\n",
       "      <th>0</th>\n",
       "      <td>00000c289a1829a808ac09c00daf10bc3c4e223b</td>\n",
       "      <td>betty blowtorch</td>\n",
       "      <td>2137</td>\n",
       "    </tr>\n",
       "    <tr>\n",
       "      <th>1</th>\n",
       "      <td>00000c289a1829a808ac09c00daf10bc3c4e223b</td>\n",
       "      <td>die Ärzte</td>\n",
       "      <td>1099</td>\n",
       "    </tr>\n",
       "    <tr>\n",
       "      <th>2</th>\n",
       "      <td>00000c289a1829a808ac09c00daf10bc3c4e223b</td>\n",
       "      <td>melissa etheridge</td>\n",
       "      <td>897</td>\n",
       "    </tr>\n",
       "    <tr>\n",
       "      <th>3</th>\n",
       "      <td>00000c289a1829a808ac09c00daf10bc3c4e223b</td>\n",
       "      <td>elvenking</td>\n",
       "      <td>717</td>\n",
       "    </tr>\n",
       "    <tr>\n",
       "      <th>4</th>\n",
       "      <td>00000c289a1829a808ac09c00daf10bc3c4e223b</td>\n",
       "      <td>juliette &amp; the licks</td>\n",
       "      <td>706</td>\n",
       "    </tr>\n",
       "  </tbody>\n",
       "</table>\n",
       "</div>"
      ],
      "text/plain": [
       "                                      users                artist  plays\n",
       "0  00000c289a1829a808ac09c00daf10bc3c4e223b       betty blowtorch   2137\n",
       "1  00000c289a1829a808ac09c00daf10bc3c4e223b             die Ärzte   1099\n",
       "2  00000c289a1829a808ac09c00daf10bc3c4e223b     melissa etheridge    897\n",
       "3  00000c289a1829a808ac09c00daf10bc3c4e223b             elvenking    717\n",
       "4  00000c289a1829a808ac09c00daf10bc3c4e223b  juliette & the licks    706"
      ]
     },
     "execution_count": 2,
     "metadata": {},
     "output_type": "execute_result"
    }
   ],
   "source": [
    "user_data = pd.read_table('/Users/abhi/Recommender_Systems/recommend_music/lastfm-dataset-360K/usersha1-artmbid-artname-plays.tsv'\n",
    "                         , header = None, nrows = 2e7, names =['users', 'musicbrainz-artist-id', 'artist', 'plays'],\n",
    "                         usecols = ['users', 'artist', 'plays'])\n",
    "user_data.head()"
   ]
  },
  {
   "cell_type": "code",
   "execution_count": 3,
   "metadata": {
    "collapsed": false
   },
   "outputs": [
    {
     "data": {
      "text/html": [
       "<div>\n",
       "<table border=\"1\" class=\"dataframe\">\n",
       "  <thead>\n",
       "    <tr style=\"text-align: right;\">\n",
       "      <th></th>\n",
       "      <th>users</th>\n",
       "      <th>country</th>\n",
       "    </tr>\n",
       "  </thead>\n",
       "  <tbody>\n",
       "    <tr>\n",
       "      <th>0</th>\n",
       "      <td>00000c289a1829a808ac09c00daf10bc3c4e223b</td>\n",
       "      <td>Germany</td>\n",
       "    </tr>\n",
       "    <tr>\n",
       "      <th>1</th>\n",
       "      <td>00001411dc427966b17297bf4d69e7e193135d89</td>\n",
       "      <td>Canada</td>\n",
       "    </tr>\n",
       "    <tr>\n",
       "      <th>2</th>\n",
       "      <td>00004d2ac9316e22dc007ab2243d6fcb239e707d</td>\n",
       "      <td>Germany</td>\n",
       "    </tr>\n",
       "    <tr>\n",
       "      <th>3</th>\n",
       "      <td>000063d3fe1cf2ba248b9e3c3f0334845a27a6bf</td>\n",
       "      <td>Mexico</td>\n",
       "    </tr>\n",
       "    <tr>\n",
       "      <th>4</th>\n",
       "      <td>00007a47085b9aab8af55f52ec8846ac479ac4fe</td>\n",
       "      <td>United States</td>\n",
       "    </tr>\n",
       "  </tbody>\n",
       "</table>\n",
       "</div>"
      ],
      "text/plain": [
       "                                      users        country\n",
       "0  00000c289a1829a808ac09c00daf10bc3c4e223b        Germany\n",
       "1  00001411dc427966b17297bf4d69e7e193135d89         Canada\n",
       "2  00004d2ac9316e22dc007ab2243d6fcb239e707d        Germany\n",
       "3  000063d3fe1cf2ba248b9e3c3f0334845a27a6bf         Mexico\n",
       "4  00007a47085b9aab8af55f52ec8846ac479ac4fe  United States"
      ]
     },
     "execution_count": 3,
     "metadata": {},
     "output_type": "execute_result"
    }
   ],
   "source": [
    "user_profiles = pd.read_table('/Users/abhi/Recommender_Systems/recommend_music/lastfm-dataset-360K/usersha1-profile.tsv',\n",
    "                             header = None, names =['users','gender', 'age', 'country', 'signup'],\n",
    "                             usecols = ['users', 'country'])\n",
    "user_profiles.head()"
   ]
  },
  {
   "cell_type": "code",
   "execution_count": 4,
   "metadata": {
    "collapsed": true
   },
   "outputs": [],
   "source": [
    "#dropping the artists that are not popular \n",
    "if user_data['artist'].isnull().sum()>0:\n",
    "    user_data = user_data.dropna(axis=0, subset = ['artist'])"
   ]
  },
  {
   "cell_type": "code",
   "execution_count": 5,
   "metadata": {
    "collapsed": false
   },
   "outputs": [
    {
     "data": {
      "text/html": [
       "<div>\n",
       "<table border=\"1\" class=\"dataframe\">\n",
       "  <thead>\n",
       "    <tr style=\"text-align: right;\">\n",
       "      <th></th>\n",
       "      <th>artist</th>\n",
       "      <th>total_artist_plays</th>\n",
       "    </tr>\n",
       "  </thead>\n",
       "  <tbody>\n",
       "    <tr>\n",
       "      <th>0</th>\n",
       "      <td>04)]</td>\n",
       "      <td>6</td>\n",
       "    </tr>\n",
       "    <tr>\n",
       "      <th>1</th>\n",
       "      <td>2</td>\n",
       "      <td>1606</td>\n",
       "    </tr>\n",
       "    <tr>\n",
       "      <th>2</th>\n",
       "      <td>58725ab=&gt;</td>\n",
       "      <td>23</td>\n",
       "    </tr>\n",
       "    <tr>\n",
       "      <th>3</th>\n",
       "      <td>80lİ yillarin tÜrkÇe sÖzlÜ aŞk Şarkilari</td>\n",
       "      <td>70</td>\n",
       "    </tr>\n",
       "    <tr>\n",
       "      <th>4</th>\n",
       "      <td>amy winehouse</td>\n",
       "      <td>23</td>\n",
       "    </tr>\n",
       "  </tbody>\n",
       "</table>\n",
       "</div>"
      ],
      "text/plain": [
       "                                      artist  total_artist_plays\n",
       "0                                       04)]                   6\n",
       "1                                         2                 1606\n",
       "2                                  58725ab=>                  23\n",
       "3   80lİ yillarin tÜrkÇe sÖzlÜ aŞk Şarkilari                  70\n",
       "4                              amy winehouse                  23"
      ]
     },
     "execution_count": 5,
     "metadata": {},
     "output_type": "execute_result"
    }
   ],
   "source": [
    "artist_plays = (user_data.groupby(by = ['artist']).sum().\n",
    "                reset_index().\n",
    "                rename(columns = {'plays': 'total_artist_plays'})\n",
    "                       [['artist','total_artist_plays']])\n",
    "artist_plays.head()"
   ]
  },
  {
   "cell_type": "code",
   "execution_count": 6,
   "metadata": {
    "collapsed": false
   },
   "outputs": [
    {
     "data": {
      "text/html": [
       "<div>\n",
       "<table border=\"1\" class=\"dataframe\">\n",
       "  <thead>\n",
       "    <tr style=\"text-align: right;\">\n",
       "      <th></th>\n",
       "      <th>users</th>\n",
       "      <th>artist</th>\n",
       "      <th>plays</th>\n",
       "      <th>total_artist_plays</th>\n",
       "    </tr>\n",
       "  </thead>\n",
       "  <tbody>\n",
       "    <tr>\n",
       "      <th>0</th>\n",
       "      <td>00000c289a1829a808ac09c00daf10bc3c4e223b</td>\n",
       "      <td>betty blowtorch</td>\n",
       "      <td>2137</td>\n",
       "      <td>25651</td>\n",
       "    </tr>\n",
       "    <tr>\n",
       "      <th>1</th>\n",
       "      <td>00000c289a1829a808ac09c00daf10bc3c4e223b</td>\n",
       "      <td>die Ärzte</td>\n",
       "      <td>1099</td>\n",
       "      <td>3704875</td>\n",
       "    </tr>\n",
       "    <tr>\n",
       "      <th>2</th>\n",
       "      <td>00000c289a1829a808ac09c00daf10bc3c4e223b</td>\n",
       "      <td>melissa etheridge</td>\n",
       "      <td>897</td>\n",
       "      <td>180391</td>\n",
       "    </tr>\n",
       "    <tr>\n",
       "      <th>3</th>\n",
       "      <td>00000c289a1829a808ac09c00daf10bc3c4e223b</td>\n",
       "      <td>elvenking</td>\n",
       "      <td>717</td>\n",
       "      <td>410725</td>\n",
       "    </tr>\n",
       "    <tr>\n",
       "      <th>4</th>\n",
       "      <td>00000c289a1829a808ac09c00daf10bc3c4e223b</td>\n",
       "      <td>juliette &amp; the licks</td>\n",
       "      <td>706</td>\n",
       "      <td>90498</td>\n",
       "    </tr>\n",
       "  </tbody>\n",
       "</table>\n",
       "</div>"
      ],
      "text/plain": [
       "                                      users                artist  plays  \\\n",
       "0  00000c289a1829a808ac09c00daf10bc3c4e223b       betty blowtorch   2137   \n",
       "1  00000c289a1829a808ac09c00daf10bc3c4e223b             die Ärzte   1099   \n",
       "2  00000c289a1829a808ac09c00daf10bc3c4e223b     melissa etheridge    897   \n",
       "3  00000c289a1829a808ac09c00daf10bc3c4e223b             elvenking    717   \n",
       "4  00000c289a1829a808ac09c00daf10bc3c4e223b  juliette & the licks    706   \n",
       "\n",
       "   total_artist_plays  \n",
       "0               25651  \n",
       "1             3704875  \n",
       "2              180391  \n",
       "3              410725  \n",
       "4               90498  "
      ]
     },
     "execution_count": 6,
     "metadata": {},
     "output_type": "execute_result"
    }
   ],
   "source": [
    "user_data_with_artist_plays = user_data.merge(artist_plays, left_on='artist', \n",
    "                                             right_on = 'artist', how ='left')\n",
    "user_data_with_artist_plays.head()"
   ]
  },
  {
   "cell_type": "code",
   "execution_count": 7,
   "metadata": {
    "collapsed": false
   },
   "outputs": [
    {
     "name": "stdout",
     "output_type": "stream",
     "text": [
      "count     292364.000\n",
      "mean       12907.037\n",
      "std       185981.313\n",
      "min            1.000\n",
      "25%           53.000\n",
      "50%          208.000\n",
      "75%         1048.000\n",
      "max     30466827.000\n",
      "Name: total_artist_plays, dtype: float64\n"
     ]
    }
   ],
   "source": [
    "print(artist_plays['total_artist_plays'].describe())"
   ]
  },
  {
   "cell_type": "code",
   "execution_count": 8,
   "metadata": {
    "collapsed": false
   },
   "outputs": [
    {
     "data": {
      "text/plain": [
       "0.900     6138.000\n",
       "0.910     7410.000\n",
       "0.920     9102.960\n",
       "0.930    11475.590\n",
       "0.940    14898.440\n",
       "0.950    19964.250\n",
       "0.960    28419.880\n",
       "0.970    43541.330\n",
       "0.980    79403.440\n",
       "0.990   198482.590\n",
       "Name: total_artist_plays, dtype: float64"
      ]
     },
     "execution_count": 8,
     "metadata": {},
     "output_type": "execute_result"
    }
   ],
   "source": [
    "artist_plays['total_artist_plays'].quantile(np.arange(0.9,1,0.01))"
   ]
  },
  {
   "cell_type": "code",
   "execution_count": 9,
   "metadata": {
    "collapsed": false
   },
   "outputs": [
    {
     "data": {
      "text/html": [
       "<div>\n",
       "<table border=\"1\" class=\"dataframe\">\n",
       "  <thead>\n",
       "    <tr style=\"text-align: right;\">\n",
       "      <th></th>\n",
       "      <th>users</th>\n",
       "      <th>artist</th>\n",
       "      <th>plays</th>\n",
       "      <th>total_artist_plays</th>\n",
       "    </tr>\n",
       "  </thead>\n",
       "  <tbody>\n",
       "    <tr>\n",
       "      <th>1</th>\n",
       "      <td>00000c289a1829a808ac09c00daf10bc3c4e223b</td>\n",
       "      <td>die Ärzte</td>\n",
       "      <td>1099</td>\n",
       "      <td>3704875</td>\n",
       "    </tr>\n",
       "    <tr>\n",
       "      <th>2</th>\n",
       "      <td>00000c289a1829a808ac09c00daf10bc3c4e223b</td>\n",
       "      <td>melissa etheridge</td>\n",
       "      <td>897</td>\n",
       "      <td>180391</td>\n",
       "    </tr>\n",
       "    <tr>\n",
       "      <th>3</th>\n",
       "      <td>00000c289a1829a808ac09c00daf10bc3c4e223b</td>\n",
       "      <td>elvenking</td>\n",
       "      <td>717</td>\n",
       "      <td>410725</td>\n",
       "    </tr>\n",
       "    <tr>\n",
       "      <th>4</th>\n",
       "      <td>00000c289a1829a808ac09c00daf10bc3c4e223b</td>\n",
       "      <td>juliette &amp; the licks</td>\n",
       "      <td>706</td>\n",
       "      <td>90498</td>\n",
       "    </tr>\n",
       "    <tr>\n",
       "      <th>5</th>\n",
       "      <td>00000c289a1829a808ac09c00daf10bc3c4e223b</td>\n",
       "      <td>red hot chili peppers</td>\n",
       "      <td>691</td>\n",
       "      <td>13547741</td>\n",
       "    </tr>\n",
       "  </tbody>\n",
       "</table>\n",
       "</div>"
      ],
      "text/plain": [
       "                                      users                 artist  plays  \\\n",
       "1  00000c289a1829a808ac09c00daf10bc3c4e223b              die Ärzte   1099   \n",
       "2  00000c289a1829a808ac09c00daf10bc3c4e223b      melissa etheridge    897   \n",
       "3  00000c289a1829a808ac09c00daf10bc3c4e223b              elvenking    717   \n",
       "4  00000c289a1829a808ac09c00daf10bc3c4e223b   juliette & the licks    706   \n",
       "5  00000c289a1829a808ac09c00daf10bc3c4e223b  red hot chili peppers    691   \n",
       "\n",
       "   total_artist_plays  \n",
       "1             3704875  \n",
       "2              180391  \n",
       "3              410725  \n",
       "4               90498  \n",
       "5            13547741  "
      ]
     },
     "execution_count": 9,
     "metadata": {},
     "output_type": "execute_result"
    }
   ],
   "source": [
    "popularity_threshold = 40000\n",
    "user_data_popular_artists = user_data_with_artist_plays.query('total_artist_plays >= @popularity_threshold')\n",
    "user_data_popular_artists.head()"
   ]
  },
  {
   "cell_type": "code",
   "execution_count": 10,
   "metadata": {
    "collapsed": false
   },
   "outputs": [
    {
     "data": {
      "text/html": [
       "<div>\n",
       "<table border=\"1\" class=\"dataframe\">\n",
       "  <thead>\n",
       "    <tr style=\"text-align: right;\">\n",
       "      <th></th>\n",
       "      <th>users</th>\n",
       "      <th>artist</th>\n",
       "      <th>plays</th>\n",
       "      <th>total_artist_plays</th>\n",
       "      <th>country</th>\n",
       "    </tr>\n",
       "  </thead>\n",
       "  <tbody>\n",
       "    <tr>\n",
       "      <th>156</th>\n",
       "      <td>00007a47085b9aab8af55f52ec8846ac479ac4fe</td>\n",
       "      <td>devendra banhart</td>\n",
       "      <td>456</td>\n",
       "      <td>2366807</td>\n",
       "      <td>United States</td>\n",
       "    </tr>\n",
       "    <tr>\n",
       "      <th>157</th>\n",
       "      <td>00007a47085b9aab8af55f52ec8846ac479ac4fe</td>\n",
       "      <td>boards of canada</td>\n",
       "      <td>407</td>\n",
       "      <td>6115545</td>\n",
       "      <td>United States</td>\n",
       "    </tr>\n",
       "    <tr>\n",
       "      <th>158</th>\n",
       "      <td>00007a47085b9aab8af55f52ec8846ac479ac4fe</td>\n",
       "      <td>cocorosie</td>\n",
       "      <td>386</td>\n",
       "      <td>2194862</td>\n",
       "      <td>United States</td>\n",
       "    </tr>\n",
       "    <tr>\n",
       "      <th>159</th>\n",
       "      <td>00007a47085b9aab8af55f52ec8846ac479ac4fe</td>\n",
       "      <td>aphex twin</td>\n",
       "      <td>213</td>\n",
       "      <td>4248296</td>\n",
       "      <td>United States</td>\n",
       "    </tr>\n",
       "    <tr>\n",
       "      <th>160</th>\n",
       "      <td>00007a47085b9aab8af55f52ec8846ac479ac4fe</td>\n",
       "      <td>animal collective</td>\n",
       "      <td>203</td>\n",
       "      <td>3495537</td>\n",
       "      <td>United States</td>\n",
       "    </tr>\n",
       "  </tbody>\n",
       "</table>\n",
       "</div>"
      ],
      "text/plain": [
       "                                        users             artist  plays  \\\n",
       "156  00007a47085b9aab8af55f52ec8846ac479ac4fe   devendra banhart    456   \n",
       "157  00007a47085b9aab8af55f52ec8846ac479ac4fe   boards of canada    407   \n",
       "158  00007a47085b9aab8af55f52ec8846ac479ac4fe          cocorosie    386   \n",
       "159  00007a47085b9aab8af55f52ec8846ac479ac4fe         aphex twin    213   \n",
       "160  00007a47085b9aab8af55f52ec8846ac479ac4fe  animal collective    203   \n",
       "\n",
       "     total_artist_plays        country  \n",
       "156             2366807  United States  \n",
       "157             6115545  United States  \n",
       "158             2194862  United States  \n",
       "159             4248296  United States  \n",
       "160             3495537  United States  "
      ]
     },
     "execution_count": 10,
     "metadata": {},
     "output_type": "execute_result"
    }
   ],
   "source": [
    "combined = user_data_popular_artists.merge(user_profiles, left_on = 'users', right_on = 'users', how = 'left')\n",
    "usa_data = combined.query('country == \\'United States\\'')\n",
    "usa_data.head()"
   ]
  },
  {
   "cell_type": "code",
   "execution_count": 11,
   "metadata": {
    "collapsed": false
   },
   "outputs": [
    {
     "name": "stdout",
     "output_type": "stream",
     "text": [
      "Initial dataframe shape (2788019, 5)\n",
      "New dataframe shape (2788013, 5)\n",
      "Removed 6 rows\n"
     ]
    }
   ],
   "source": [
    "if not usa_data[usa_data.duplicated(['users', 'artist'])].empty:\n",
    "    initial_rows = usa_data.shape[0]\n",
    "    \n",
    "    print('Initial dataframe shape {0}'.format(usa_data.shape))\n",
    "    usa_data = usa_data.drop_duplicates(['users', 'artist'])\n",
    "    current_rows = usa_data.shape[0]\n",
    "    print('New dataframe shape {0}'.format(usa_data.shape))\n",
    "    print('Removed {0} rows'.format(initial_rows - current_rows))"
   ]
  },
  {
   "cell_type": "markdown",
   "metadata": {
    "collapsed": true
   },
   "source": [
    "# Implementing Nearest Neigbors Model "
   ]
  },
  {
   "cell_type": "code",
   "execution_count": 13,
   "metadata": {
    "collapsed": false
   },
   "outputs": [],
   "source": [
    "wide_artist_data = usa_data.pivot(index = 'artist', columns = 'users', values ='plays').fillna(0)\n",
    "wide_artist_data_sparse = csr_matrix(wide_artist_data)"
   ]
  },
  {
   "cell_type": "code",
   "execution_count": 14,
   "metadata": {
    "collapsed": false
   },
   "outputs": [],
   "source": [
    "# save the model for future \n",
    "from scipy.sparse import csr_matrix\n",
    "    \n",
    "def save_sparse_csr(filename, array):\n",
    "    np.savez(filename, data = array.data, indices=array.indices,\n",
    "            indptr=array.indptr, shape = array.shape)\n",
    "\n",
    "def load_sparse_csr(filename):\n",
    "    loader = np.load(filename)\n",
    "    return csr_matrix((loader['data'], loader['indices'], loader['indptr']),\n",
    "                      shape = loader['shape'])\n",
    "\n",
    "save_sparse_csr('/Users/abhi/Recommender_Systems/recommend_music/model/',\n",
    "               wide_artist_data_sparse)"
   ]
  },
  {
   "cell_type": "code",
   "execution_count": null,
   "metadata": {
    "collapsed": false
   },
   "outputs": [],
   "source": [
    "#len(wide_artist_data)"
   ]
  },
  {
   "cell_type": "code",
   "execution_count": null,
   "metadata": {
    "collapsed": true
   },
   "outputs": [],
   "source": [
    "#import cPickle as pickle"
   ]
  },
  {
   "cell_type": "code",
   "execution_count": null,
   "metadata": {
    "collapsed": false
   },
   "outputs": [],
   "source": [
    "#filename = '/Users/abhi/Recommender_Systems/recommend_music/wide_artist_data.pickle'\n",
    "#with open(filename,'wb') as fp:\n",
    " #   pickle.dump(wide_artist_data,fp)"
   ]
  },
  {
   "cell_type": "code",
   "execution_count": 4,
   "metadata": {
    "collapsed": false
   },
   "outputs": [],
   "source": [
    "#wide_artist_data_sparse = load_sparse_csr('/Users/abhi/Recommender_Systems/recommend_music/model/model.npz')"
   ]
  },
  {
   "cell_type": "code",
   "execution_count": 15,
   "metadata": {
    "collapsed": false
   },
   "outputs": [
    {
     "data": {
      "text/plain": [
       "NearestNeighbors(algorithm='brute', leaf_size=30, metric='cosine',\n",
       "         metric_params=None, n_jobs=1, n_neighbors=5, p=2, radius=1.0)"
      ]
     },
     "execution_count": 15,
     "metadata": {},
     "output_type": "execute_result"
    }
   ],
   "source": [
    "# Fitting the model\n",
    "from sklearn.neighbors import NearestNeighbors\n",
    "\n",
    "model_knn = NearestNeighbors(metric = 'cosine', algorithm = 'brute')\n",
    "model_knn.fit(wide_artist_data_sparse)"
   ]
  },
  {
   "cell_type": "code",
   "execution_count": 16,
   "metadata": {
    "collapsed": false
   },
   "outputs": [
    {
     "name": "stdout",
     "output_type": "stream",
     "text": [
      "3019\n",
      "Recommendations for fu manchu: \n",
      "\n",
      "1: nebula, with distance: 0.499399557776\n",
      "2: the atomic bitchwax, with distance: 0.539052743399\n",
      "3: hermano, with distance: 0.609744577685\n",
      "4: dozer, with distance: 0.612605053692\n",
      "5: zeke, with distance: 0.617131966286\n"
     ]
    }
   ],
   "source": [
    "#Making recommendations \n",
    "query_index = np.random.choice(wide_artist_data.shape[0])\n",
    "print(query_index)\n",
    "distances, indices = model_knn.kneighbors(wide_artist_data.iloc[query_index,:].reshape(1,-1),\n",
    "                                         n_neighbors = 6)\n",
    "for i in range(0, len(distances.flatten())):\n",
    "    if i == 0:\n",
    "        print('Recommendations for {0}: \\n'.format(wide_artist_data.index[query_index]))\n",
    "    else:\n",
    "        print('{0}: {1}, with distance: {2}'.format(i,wide_artist_data.index[indices.flatten()[i]]\n",
    "                                                   , distances.flatten()[i]))"
   ]
  },
  {
   "cell_type": "code",
   "execution_count": 17,
   "metadata": {
    "collapsed": false
   },
   "outputs": [],
   "source": [
    "# Creating binary counts \n",
    "wide_artist_data_zero_one = wide_artist_data.apply(np.sign)\n",
    "wide_artist_data_zero_one_sparse = csr_matrix(wide_artist_data_zero_one.values)\n",
    "\n",
    "save_sparse_csr('/Users/abhi/Recommender_Systems/recommend_music/model/lastfm_sparse_artist_matrix_binary.npz', wide_artist_data_zero_one_sparse)"
   ]
  },
  {
   "cell_type": "code",
   "execution_count": 18,
   "metadata": {
    "collapsed": false
   },
   "outputs": [
    {
     "data": {
      "text/plain": [
       "NearestNeighbors(algorithm='brute', leaf_size=30, metric='cosine',\n",
       "         metric_params=None, n_jobs=1, n_neighbors=5, p=2, radius=1.0)"
      ]
     },
     "execution_count": 18,
     "metadata": {},
     "output_type": "execute_result"
    }
   ],
   "source": [
    "model_nn_binary = NearestNeighbors(metric='cosine', algorithm='brute')\n",
    "model_nn_binary.fit(wide_artist_data_zero_one_sparse)"
   ]
  },
  {
   "cell_type": "code",
   "execution_count": 19,
   "metadata": {
    "collapsed": false
   },
   "outputs": [
    {
     "name": "stderr",
     "output_type": "stream",
     "text": [
      "//anaconda/envs/gl-env/lib/python2.7/site-packages/fuzzywuzzy/fuzz.py:35: UserWarning: Using slow pure-python SequenceMatcher. Install python-Levenshtein to remove this warning\n",
      "  warnings.warn('Using slow pure-python SequenceMatcher. Install python-Levenshtein to remove this warning')\n"
     ]
    }
   ],
   "source": [
    "import string\n",
    "from fuzzywuzzy import fuzz"
   ]
  },
  {
   "cell_type": "code",
   "execution_count": 20,
   "metadata": {
    "collapsed": false
   },
   "outputs": [
    {
     "data": {
      "text/html": [
       "<div>\n",
       "<table border=\"1\" class=\"dataframe\">\n",
       "  <thead>\n",
       "    <tr style=\"text-align: right;\">\n",
       "      <th>users</th>\n",
       "      <th>00007a47085b9aab8af55f52ec8846ac479ac4fe</th>\n",
       "      <th>0001a57568309b287363e72dc682e9a170ba6dc2</th>\n",
       "      <th>00024b5b85c40f990c28644d53257819980bf6bb</th>\n",
       "      <th>0002dd2154072434d26e5409faa591bfb260a01e</th>\n",
       "      <th>00032c7933e0eb05f2258f1147ef81a90f2d4d6c</th>\n",
       "      <th>00041cbfdd019b5431f926133266cc4ba38219bb</th>\n",
       "      <th>000429493d9716b66b02180d208d09b5b89fbe64</th>\n",
       "      <th>000701c3c006b091990162635b36b008c504c6a7</th>\n",
       "      <th>000752c87a61bc4247f5219b4769c347c0062c8a</th>\n",
       "      <th>0008538a0f505f72fdd66af3c4c71aef8d3bdea4</th>\n",
       "      <th>...</th>\n",
       "      <th>fff58a5c95280b7af63f9c552f9159b58ae5efa3</th>\n",
       "      <th>fff694cf332ed701dccbf17f1d9595ba8ad69f22</th>\n",
       "      <th>fff69e7cb53568c732909648527a778c31befec8</th>\n",
       "      <th>fff820efe22db6c868515436de82af39e013b910</th>\n",
       "      <th>fff89b6b5332f0f38996f11c88f908a3924926fe</th>\n",
       "      <th>fff9dc65e7f2763a7e8bce8d99cc1491c2ae4c6f</th>\n",
       "      <th>fffa9294e858a7c863b5ad363c748c2330d9bd45</th>\n",
       "      <th>fffa9d62caff0f038c7a35db70f109b1bba04a1d</th>\n",
       "      <th>fffaf6f9a1a3ad8bd0dff7b48b2eb9eef030fdee</th>\n",
       "      <th>fffe8c7f952d9b960a56ed4dcb40a415d924b224</th>\n",
       "    </tr>\n",
       "    <tr>\n",
       "      <th>artist</th>\n",
       "      <th></th>\n",
       "      <th></th>\n",
       "      <th></th>\n",
       "      <th></th>\n",
       "      <th></th>\n",
       "      <th></th>\n",
       "      <th></th>\n",
       "      <th></th>\n",
       "      <th></th>\n",
       "      <th></th>\n",
       "      <th></th>\n",
       "      <th></th>\n",
       "      <th></th>\n",
       "      <th></th>\n",
       "      <th></th>\n",
       "      <th></th>\n",
       "      <th></th>\n",
       "      <th></th>\n",
       "      <th></th>\n",
       "      <th></th>\n",
       "      <th></th>\n",
       "    </tr>\n",
       "  </thead>\n",
       "  <tbody>\n",
       "    <tr>\n",
       "      <th>!!!</th>\n",
       "      <td>0.000</td>\n",
       "      <td>0.000</td>\n",
       "      <td>0.000</td>\n",
       "      <td>0.000</td>\n",
       "      <td>0.000</td>\n",
       "      <td>0.000</td>\n",
       "      <td>0.000</td>\n",
       "      <td>0.000</td>\n",
       "      <td>0.000</td>\n",
       "      <td>0.000</td>\n",
       "      <td>...</td>\n",
       "      <td>0.000</td>\n",
       "      <td>0.000</td>\n",
       "      <td>0.000</td>\n",
       "      <td>0.000</td>\n",
       "      <td>0.000</td>\n",
       "      <td>0.000</td>\n",
       "      <td>0.000</td>\n",
       "      <td>0.000</td>\n",
       "      <td>0.000</td>\n",
       "      <td>0.000</td>\n",
       "    </tr>\n",
       "    <tr>\n",
       "      <th>#####</th>\n",
       "      <td>0.000</td>\n",
       "      <td>0.000</td>\n",
       "      <td>0.000</td>\n",
       "      <td>0.000</td>\n",
       "      <td>0.000</td>\n",
       "      <td>0.000</td>\n",
       "      <td>0.000</td>\n",
       "      <td>0.000</td>\n",
       "      <td>0.000</td>\n",
       "      <td>0.000</td>\n",
       "      <td>...</td>\n",
       "      <td>0.000</td>\n",
       "      <td>0.000</td>\n",
       "      <td>0.000</td>\n",
       "      <td>0.000</td>\n",
       "      <td>0.000</td>\n",
       "      <td>0.000</td>\n",
       "      <td>0.000</td>\n",
       "      <td>0.000</td>\n",
       "      <td>0.000</td>\n",
       "      <td>0.000</td>\n",
       "    </tr>\n",
       "    <tr>\n",
       "      <th>(+44)</th>\n",
       "      <td>0.000</td>\n",
       "      <td>0.000</td>\n",
       "      <td>0.000</td>\n",
       "      <td>0.000</td>\n",
       "      <td>0.000</td>\n",
       "      <td>0.000</td>\n",
       "      <td>0.000</td>\n",
       "      <td>0.000</td>\n",
       "      <td>0.000</td>\n",
       "      <td>0.000</td>\n",
       "      <td>...</td>\n",
       "      <td>0.000</td>\n",
       "      <td>0.000</td>\n",
       "      <td>0.000</td>\n",
       "      <td>0.000</td>\n",
       "      <td>0.000</td>\n",
       "      <td>0.000</td>\n",
       "      <td>0.000</td>\n",
       "      <td>0.000</td>\n",
       "      <td>0.000</td>\n",
       "      <td>0.000</td>\n",
       "    </tr>\n",
       "    <tr>\n",
       "      <th>(hed) planet earth</th>\n",
       "      <td>0.000</td>\n",
       "      <td>0.000</td>\n",
       "      <td>0.000</td>\n",
       "      <td>0.000</td>\n",
       "      <td>0.000</td>\n",
       "      <td>0.000</td>\n",
       "      <td>0.000</td>\n",
       "      <td>0.000</td>\n",
       "      <td>0.000</td>\n",
       "      <td>0.000</td>\n",
       "      <td>...</td>\n",
       "      <td>0.000</td>\n",
       "      <td>0.000</td>\n",
       "      <td>0.000</td>\n",
       "      <td>0.000</td>\n",
       "      <td>0.000</td>\n",
       "      <td>0.000</td>\n",
       "      <td>0.000</td>\n",
       "      <td>0.000</td>\n",
       "      <td>0.000</td>\n",
       "      <td>0.000</td>\n",
       "    </tr>\n",
       "    <tr>\n",
       "      <th>*nsync</th>\n",
       "      <td>0.000</td>\n",
       "      <td>0.000</td>\n",
       "      <td>0.000</td>\n",
       "      <td>0.000</td>\n",
       "      <td>0.000</td>\n",
       "      <td>0.000</td>\n",
       "      <td>0.000</td>\n",
       "      <td>0.000</td>\n",
       "      <td>0.000</td>\n",
       "      <td>0.000</td>\n",
       "      <td>...</td>\n",
       "      <td>0.000</td>\n",
       "      <td>0.000</td>\n",
       "      <td>0.000</td>\n",
       "      <td>0.000</td>\n",
       "      <td>0.000</td>\n",
       "      <td>0.000</td>\n",
       "      <td>0.000</td>\n",
       "      <td>0.000</td>\n",
       "      <td>0.000</td>\n",
       "      <td>0.000</td>\n",
       "    </tr>\n",
       "  </tbody>\n",
       "</table>\n",
       "<p>5 rows × 66913 columns</p>\n",
       "</div>"
      ],
      "text/plain": [
       "users               00007a47085b9aab8af55f52ec8846ac479ac4fe  \\\n",
       "artist                                                         \n",
       "!!!                                                    0.000   \n",
       "#####                                                  0.000   \n",
       "(+44)                                                  0.000   \n",
       "(hed) planet earth                                     0.000   \n",
       "*nsync                                                 0.000   \n",
       "\n",
       "users               0001a57568309b287363e72dc682e9a170ba6dc2  \\\n",
       "artist                                                         \n",
       "!!!                                                    0.000   \n",
       "#####                                                  0.000   \n",
       "(+44)                                                  0.000   \n",
       "(hed) planet earth                                     0.000   \n",
       "*nsync                                                 0.000   \n",
       "\n",
       "users               00024b5b85c40f990c28644d53257819980bf6bb  \\\n",
       "artist                                                         \n",
       "!!!                                                    0.000   \n",
       "#####                                                  0.000   \n",
       "(+44)                                                  0.000   \n",
       "(hed) planet earth                                     0.000   \n",
       "*nsync                                                 0.000   \n",
       "\n",
       "users               0002dd2154072434d26e5409faa591bfb260a01e  \\\n",
       "artist                                                         \n",
       "!!!                                                    0.000   \n",
       "#####                                                  0.000   \n",
       "(+44)                                                  0.000   \n",
       "(hed) planet earth                                     0.000   \n",
       "*nsync                                                 0.000   \n",
       "\n",
       "users               00032c7933e0eb05f2258f1147ef81a90f2d4d6c  \\\n",
       "artist                                                         \n",
       "!!!                                                    0.000   \n",
       "#####                                                  0.000   \n",
       "(+44)                                                  0.000   \n",
       "(hed) planet earth                                     0.000   \n",
       "*nsync                                                 0.000   \n",
       "\n",
       "users               00041cbfdd019b5431f926133266cc4ba38219bb  \\\n",
       "artist                                                         \n",
       "!!!                                                    0.000   \n",
       "#####                                                  0.000   \n",
       "(+44)                                                  0.000   \n",
       "(hed) planet earth                                     0.000   \n",
       "*nsync                                                 0.000   \n",
       "\n",
       "users               000429493d9716b66b02180d208d09b5b89fbe64  \\\n",
       "artist                                                         \n",
       "!!!                                                    0.000   \n",
       "#####                                                  0.000   \n",
       "(+44)                                                  0.000   \n",
       "(hed) planet earth                                     0.000   \n",
       "*nsync                                                 0.000   \n",
       "\n",
       "users               000701c3c006b091990162635b36b008c504c6a7  \\\n",
       "artist                                                         \n",
       "!!!                                                    0.000   \n",
       "#####                                                  0.000   \n",
       "(+44)                                                  0.000   \n",
       "(hed) planet earth                                     0.000   \n",
       "*nsync                                                 0.000   \n",
       "\n",
       "users               000752c87a61bc4247f5219b4769c347c0062c8a  \\\n",
       "artist                                                         \n",
       "!!!                                                    0.000   \n",
       "#####                                                  0.000   \n",
       "(+44)                                                  0.000   \n",
       "(hed) planet earth                                     0.000   \n",
       "*nsync                                                 0.000   \n",
       "\n",
       "users               0008538a0f505f72fdd66af3c4c71aef8d3bdea4  \\\n",
       "artist                                                         \n",
       "!!!                                                    0.000   \n",
       "#####                                                  0.000   \n",
       "(+44)                                                  0.000   \n",
       "(hed) planet earth                                     0.000   \n",
       "*nsync                                                 0.000   \n",
       "\n",
       "users                                 ...                     \\\n",
       "artist                                ...                      \n",
       "!!!                                   ...                      \n",
       "#####                                 ...                      \n",
       "(+44)                                 ...                      \n",
       "(hed) planet earth                    ...                      \n",
       "*nsync                                ...                      \n",
       "\n",
       "users               fff58a5c95280b7af63f9c552f9159b58ae5efa3  \\\n",
       "artist                                                         \n",
       "!!!                                                    0.000   \n",
       "#####                                                  0.000   \n",
       "(+44)                                                  0.000   \n",
       "(hed) planet earth                                     0.000   \n",
       "*nsync                                                 0.000   \n",
       "\n",
       "users               fff694cf332ed701dccbf17f1d9595ba8ad69f22  \\\n",
       "artist                                                         \n",
       "!!!                                                    0.000   \n",
       "#####                                                  0.000   \n",
       "(+44)                                                  0.000   \n",
       "(hed) planet earth                                     0.000   \n",
       "*nsync                                                 0.000   \n",
       "\n",
       "users               fff69e7cb53568c732909648527a778c31befec8  \\\n",
       "artist                                                         \n",
       "!!!                                                    0.000   \n",
       "#####                                                  0.000   \n",
       "(+44)                                                  0.000   \n",
       "(hed) planet earth                                     0.000   \n",
       "*nsync                                                 0.000   \n",
       "\n",
       "users               fff820efe22db6c868515436de82af39e013b910  \\\n",
       "artist                                                         \n",
       "!!!                                                    0.000   \n",
       "#####                                                  0.000   \n",
       "(+44)                                                  0.000   \n",
       "(hed) planet earth                                     0.000   \n",
       "*nsync                                                 0.000   \n",
       "\n",
       "users               fff89b6b5332f0f38996f11c88f908a3924926fe  \\\n",
       "artist                                                         \n",
       "!!!                                                    0.000   \n",
       "#####                                                  0.000   \n",
       "(+44)                                                  0.000   \n",
       "(hed) planet earth                                     0.000   \n",
       "*nsync                                                 0.000   \n",
       "\n",
       "users               fff9dc65e7f2763a7e8bce8d99cc1491c2ae4c6f  \\\n",
       "artist                                                         \n",
       "!!!                                                    0.000   \n",
       "#####                                                  0.000   \n",
       "(+44)                                                  0.000   \n",
       "(hed) planet earth                                     0.000   \n",
       "*nsync                                                 0.000   \n",
       "\n",
       "users               fffa9294e858a7c863b5ad363c748c2330d9bd45  \\\n",
       "artist                                                         \n",
       "!!!                                                    0.000   \n",
       "#####                                                  0.000   \n",
       "(+44)                                                  0.000   \n",
       "(hed) planet earth                                     0.000   \n",
       "*nsync                                                 0.000   \n",
       "\n",
       "users               fffa9d62caff0f038c7a35db70f109b1bba04a1d  \\\n",
       "artist                                                         \n",
       "!!!                                                    0.000   \n",
       "#####                                                  0.000   \n",
       "(+44)                                                  0.000   \n",
       "(hed) planet earth                                     0.000   \n",
       "*nsync                                                 0.000   \n",
       "\n",
       "users               fffaf6f9a1a3ad8bd0dff7b48b2eb9eef030fdee  \\\n",
       "artist                                                         \n",
       "!!!                                                    0.000   \n",
       "#####                                                  0.000   \n",
       "(+44)                                                  0.000   \n",
       "(hed) planet earth                                     0.000   \n",
       "*nsync                                                 0.000   \n",
       "\n",
       "users               fffe8c7f952d9b960a56ed4dcb40a415d924b224  \n",
       "artist                                                        \n",
       "!!!                                                    0.000  \n",
       "#####                                                  0.000  \n",
       "(+44)                                                  0.000  \n",
       "(hed) planet earth                                     0.000  \n",
       "*nsync                                                 0.000  \n",
       "\n",
       "[5 rows x 66913 columns]"
      ]
     },
     "execution_count": 20,
     "metadata": {},
     "output_type": "execute_result"
    }
   ],
   "source": []
  },
  {
   "cell_type": "code",
   "execution_count": 23,
   "metadata": {
    "collapsed": true
   },
   "outputs": [],
   "source": [
    "def print_artist_recommendations(query_artist, artist_plays_matrix, knn_model, k):\n",
    "    \"\"\"\n",
    "    Inputs:\n",
    "    query_artist: query artist name\n",
    "    artist_plays_matrix: artist play count dataframe (not the sparse one, the pandas dataframe)\n",
    "    knn_model: our previously fitted sklearn knn model\n",
    "    k: the number of nearest neighbors.\n",
    "    \n",
    "    Prints: Artist recommendations for the query artist\n",
    "    Returns: None\n",
    "    \"\"\"\n",
    "    \n",
    "    query_index = None \n",
    "    ratio_tuples = [] \n",
    "    \n",
    "    \n",
    "    for i in artist_plays_matrix.index:\n",
    "        ratio = fuzz.ratio(i.lower(), query_artist.lower())\n",
    "        if ratio >= 75:\n",
    "            current_query_index = artist_plays_matrix.index.tolist().index(i)\n",
    "            ratio_tuples.append((i,ratio,current_query_index))\n",
    "    \n",
    "    print 'Possible matches: {0}\\n'.format([(x[0], x[1]) for x in ratio_tuples])\n",
    "    \n",
    "    try:\n",
    "        query_index = max(ratio_tuples, key = lambda x: x[1])[2] # gets the index of the best matched artist \n",
    "        \n",
    "    except:\n",
    "        print 'Your artist didn\\'t match any artists in the data. Try again'\n",
    "        return None \n",
    "    \n",
    "    distances, indices = knn_model.kneighbors(artist_plays_matrix.iloc[query_index, :].reshape(1, -1), n_neighbors = k + 1)\n",
    "\n",
    "    for i in range(0, len(distances.flatten())):\n",
    "        if i == 0:\n",
    "            print 'Recommendations for {0}:\\n'.format(artist_plays_matrix.index[query_index])\n",
    "        else:\n",
    "            print '{0}: {1}, with distance of {2}:'.format(i, artist_plays_matrix.index[indices.flatten()[i]], distances.flatten()[i])\n",
    "\n",
    "    return None"
   ]
  },
  {
   "cell_type": "code",
   "execution_count": 24,
   "metadata": {
    "collapsed": false
   },
   "outputs": [
    {
     "name": "stdout",
     "output_type": "stream",
     "text": [
      "Possible matches: [('red hot chili peppers', 100)]\n",
      "\n",
      "Recommendations for red hot chili peppers:\n",
      "\n",
      "1: incubus, with distance of 0.686632912166:\n",
      "2: the beatles, with distance of 0.693856742888:\n",
      "3: sublime, with distance of 0.70540037526:\n",
      "4: foo fighters, with distance of 0.71155686859:\n",
      "5: coldplay, with distance of 0.716691422348:\n",
      "6: led zeppelin, with distance of 0.722488787624:\n",
      "7: nirvana, with distance of 0.724943983169:\n",
      "8: green day, with distance of 0.734603813118:\n",
      "9: radiohead, with distance of 0.737372302802:\n",
      "10: rage against the machine, with distance of 0.740136491957:\n"
     ]
    }
   ],
   "source": [
    "print_artist_recommendations('red hot chili peppers', wide_artist_data_zero_one, model_nn_binary, k = 10)"
   ]
  },
  {
   "cell_type": "code",
   "execution_count": 32,
   "metadata": {
    "collapsed": false
   },
   "outputs": [
    {
     "name": "stdout",
     "output_type": "stream",
     "text": [
      "Possible matches: [('eminem', 86)]\n",
      "\n",
      "Recommendations for eminem:\n",
      "\n",
      "1: 50 cent, with distance of 0.668324212947:\n",
      "2: 2pac, with distance of 0.693505542237:\n",
      "3: ludacris, with distance of 0.707377082885:\n",
      "4: jay-z, with distance of 0.709177423306:\n",
      "5: the game, with distance of 0.716550022387:\n",
      "6: t.i., with distance of 0.725279375768:\n",
      "7: kanye west, with distance of 0.726752502358:\n",
      "8: nas, with distance of 0.740194341248:\n",
      "9: notorious b.i.g., with distance of 0.746848783097:\n",
      "10: dr. dre, with distance of 0.747268461847:\n"
     ]
    }
   ],
   "source": [
    "print_artist_recommendations('emi ne m', wide_artist_data_zero_one, model_nn_binary, k = 10)"
   ]
  },
  {
   "cell_type": "code",
   "execution_count": 31,
   "metadata": {
    "collapsed": false
   },
   "outputs": [
    {
     "data": {
      "text/plain": [
       "(9127, 66913)"
      ]
     },
     "execution_count": 31,
     "metadata": {},
     "output_type": "execute_result"
    }
   ],
   "source": [
    "wide_artist_data_zero_one.shape"
   ]
  },
  {
   "cell_type": "code",
   "execution_count": null,
   "metadata": {
    "collapsed": true
   },
   "outputs": [],
   "source": []
  }
 ],
 "metadata": {
  "kernelspec": {
   "display_name": "Python 2",
   "language": "python",
   "name": "python2"
  },
  "language_info": {
   "codemirror_mode": {
    "name": "ipython",
    "version": 2
   },
   "file_extension": ".py",
   "mimetype": "text/x-python",
   "name": "python",
   "nbconvert_exporter": "python",
   "pygments_lexer": "ipython2",
   "version": "2.7.11"
  }
 },
 "nbformat": 4,
 "nbformat_minor": 0
}
