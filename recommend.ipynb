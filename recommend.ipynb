{
 "cells": [
  {
   "cell_type": "code",
   "execution_count": 2,
   "metadata": {
    "collapsed": true
   },
   "outputs": [],
   "source": [
    "critics={'Lisa Rose': {'Lady in the Water': 2.5, 'Snakes on a Plane': 3.5,\n",
    "'Just My Luck': 3.0, 'Superman Returns': 3.5, 'You, Me and Dupree': 2.5,\n",
    "'The Night Listener': 3.0},\n",
    "'Gene Seymour': {'Lady in the Water': 3.0, 'Snakes on a Plane': 3.5,\n",
    "'Just My Luck': 1.5, 'Superman Returns': 5.0, 'The Night Listener': 3.0,\n",
    "'You, Me and Dupree': 3.5},\n",
    "'Michael Phillips': {'Lady in the Water': 2.5, 'Snakes on a Plane': 3.0,\n",
    "'Superman Returns': 3.5, 'The Night Listener': 4.0},\n",
    "'Claudia Puig': {'Snakes on a Plane': 3.5, 'Just My Luck': 3.0,\n",
    "'The Night Listener': 4.5, 'Superman Returns': 4.0,\n",
    "'You, Me and Dupree': 2.5},\n",
    "'Mick LaSalle': {'Lady in the Water': 3.0, 'Snakes on a Plane': 4.0,\n",
    "'Just My Luck': 2.0, 'Superman Returns': 3.0, 'The Night Listener': 3.0,\n",
    "'You, Me and Dupree': 2.0},\n",
    "'Jack Matthews': {'Lady in the Water': 3.0, 'Snakes on a Plane': 4.0,\n",
    "'The Night Listener': 3.0, 'Superman Returns': 5.0, 'You, Me and Dupree': 3.5},\n",
    "'Toby': {'Snakes on a Plane':4.5,'You, Me and Dupree':1.0,'Superman Returns':4.0}}"
   ]
  },
  {
   "cell_type": "code",
   "execution_count": 13,
   "metadata": {
    "collapsed": false
   },
   "outputs": [],
   "source": [
    "from math import sqrt\n",
    "\n",
    "def sim_distance(prefs, person1, person2):\n",
    "    #Get list of shared items \n",
    "    si ={}\n",
    "    for item in prefs[person1]:\n",
    "        if item in prefs[person2]:\n",
    "            si[item]=1\n",
    "        # if they have no ratings in common, return 0\n",
    "    if len(si) == 0:\n",
    "        return 0\n",
    "    # Add up the squares of all the differences \n",
    "    sum_of_squares = sum([pow(prefs[person1][item] - prefs[person2][item],2)\n",
    "                             for item in prefs[person1] if item in prefs[person2]])\n",
    "    return 1/(1 + sum_of_squares)"
   ]
  },
  {
   "cell_type": "code",
   "execution_count": 14,
   "metadata": {
    "collapsed": false
   },
   "outputs": [
    {
     "data": {
      "text/plain": [
       "0.14814814814814814"
      ]
     },
     "execution_count": 14,
     "metadata": {},
     "output_type": "execute_result"
    }
   ],
   "source": [
    "sim_distance(critics, 'Lisa Rose', 'Gene Seymour')"
   ]
  },
  {
   "cell_type": "code",
   "execution_count": 15,
   "metadata": {
    "collapsed": true
   },
   "outputs": [],
   "source": [
    "def sim_pearson(prefs, p1, p2):\n",
    "    #Get list of mutual interests\n",
    "    si = {}\n",
    "    for item in prefs[p1]:\n",
    "        if item in prefs[p2]:\n",
    "            si[item] = 1\n",
    "        \n",
    "    n = len(si)\n",
    "    if n == 0:\n",
    "        return 0 \n",
    "    \n",
    "    #Add up all preferences\n",
    "    sum1 = sum([prefs[p1][it] for it in si])       \n",
    "    sum2 = sum([prefs[p2][it] for it in si])\n",
    "        \n",
    "    #Sum up the squares \n",
    "    sum1Sq = sum([pow(prefs[p1][it],2) for it in si])\n",
    "    sum2Sq = sum([pow(prefs[p2][it],2) for it in si])\n",
    "        \n",
    "    #Sum up the products\n",
    "    pSum = sum([prefs[p1][it]*prefs[p2][it] for it in si])\n",
    "        \n",
    "    #Calculate Pearson score \n",
    "    num = pSum - (sum1*sum2/n)\n",
    "    den = sqrt((sum1Sq-pow(sum1,2)/n)*(sum2Sq-pow(sum2,2)/n))\n",
    "    if den == 0 : return 0\n",
    "    r = num/den\n",
    "    return r"
   ]
  },
  {
   "cell_type": "code",
   "execution_count": 16,
   "metadata": {
    "collapsed": false
   },
   "outputs": [
    {
     "data": {
      "text/plain": [
       "0.39605901719066977"
      ]
     },
     "execution_count": 16,
     "metadata": {},
     "output_type": "execute_result"
    }
   ],
   "source": [
    "sim_pearson(critics, 'Lisa Rose', 'Gene Seymour')"
   ]
  },
  {
   "cell_type": "code",
   "execution_count": 18,
   "metadata": {
    "collapsed": true
   },
   "outputs": [],
   "source": [
    "def top_matches(prefs, person, n =5, similarity= cosine_similarity):\n",
    "    scores = [(similarity(prefs,person,other),other)\n",
    "                     for other in prefs if other!= person]\n",
    "    #Sort list in descending order\n",
    "    scores.sort()\n",
    "    scores.reverse()\n",
    "    return scores[0:n]"
   ]
  },
  {
   "cell_type": "code",
   "execution_count": 7,
   "metadata": {
    "collapsed": false
   },
   "outputs": [
    {
     "data": {
      "text/plain": [
       "[(0.9912407071619299, 'Lisa Rose'),\n",
       " (0.9244734516419049, 'Mick LaSalle'),\n",
       " (0.8934051474415647, 'Claudia Puig')]"
      ]
     },
     "execution_count": 7,
     "metadata": {},
     "output_type": "execute_result"
    }
   ],
   "source": [
    "top_matches(critics, 'Toby', n = 3)"
   ]
  },
  {
   "cell_type": "code",
   "execution_count": 20,
   "metadata": {
    "collapsed": true
   },
   "outputs": [],
   "source": [
    "def getRecommendations(prefs, person, similarity = cosine_similarity):\n",
    "    totals = {}\n",
    "    simSums = {}\n",
    "    for other in prefs:\n",
    "        if other==person:continue\n",
    "        sim = similarity(prefs, person, other)\n",
    "        \n",
    "        #ignore scores of zero or lower\n",
    "        if sim<=0:continue\n",
    "        for item in prefs[other]:\n",
    "            #only score movies I haven't seen \n",
    "            if item not in prefs[person] or prefs[person][item]==0:\n",
    "                #Sim * score \n",
    "                totals.setdefault(item,0)\n",
    "                totals[item]+= prefs[other][item]*sim\n",
    "                simSums.setdefault(item,0)\n",
    "                simSums[item]+=sim\n",
    "    \n",
    "    # Create the normalized list \n",
    "    rankings = [(total/simSums[item], item ) for item,total in totals.items()]\n",
    "    \n",
    "    #Return the sorted list \n",
    "    rankings.sort()\n",
    "    rankings.reverse()\n",
    "    return rankings"
   ]
  },
  {
   "cell_type": "code",
   "execution_count": 21,
   "metadata": {
    "collapsed": false
   },
   "outputs": [
    {
     "data": {
      "text/plain": [
       "[(3.4238686478833218, 'The Night Listener'),\n",
       " (2.795964712878916, 'Lady in the Water'),\n",
       " (2.3823181325175566, 'Just My Luck')]"
      ]
     },
     "execution_count": 21,
     "metadata": {},
     "output_type": "execute_result"
    }
   ],
   "source": [
    "getRecommendations(critics, 'Toby')"
   ]
  },
  {
   "cell_type": "code",
   "execution_count": 22,
   "metadata": {
    "collapsed": true
   },
   "outputs": [],
   "source": [
    "def transformPrefs(prefs):\n",
    "    result = {}\n",
    "    for person in prefs:\n",
    "        for item in prefs[person]:\n",
    "            result.setdefault(item,{})\n",
    "            \n",
    "            result[item][person] = prefs[person][item]\n",
    "    \n",
    "    return result"
   ]
  },
  {
   "cell_type": "code",
   "execution_count": 23,
   "metadata": {
    "collapsed": true
   },
   "outputs": [],
   "source": [
    "movies = transformPrefs(critics)"
   ]
  },
  {
   "cell_type": "code",
   "execution_count": 24,
   "metadata": {
    "collapsed": false
   },
   "outputs": [
    {
     "data": {
      "text/plain": [
       "[(3.6937429138777662, 'Jack Matthews'),\n",
       " (3.2556381465577906, 'Michael Phillips'),\n",
       " (3.1877460052395947, 'Toby')]"
      ]
     },
     "execution_count": 24,
     "metadata": {},
     "output_type": "execute_result"
    }
   ],
   "source": [
    "getRecommendations(movies, 'Just My Luck')"
   ]
  },
  {
   "cell_type": "code",
   "execution_count": 25,
   "metadata": {
    "collapsed": true
   },
   "outputs": [],
   "source": [
    "## Item based Filtering "
   ]
  },
  {
   "cell_type": "code",
   "execution_count": 26,
   "metadata": {
    "collapsed": true
   },
   "outputs": [],
   "source": [
    "def calculateSimilarItems(prefs, n = 10):\n",
    "    #create a dictionary of items showing which other items \n",
    "    # are most similar to \n",
    "    result = {}\n",
    "    \n",
    "    # Invert the preference matrix to be item-centric\n",
    "    itemPrefs = transformPrefs(prefs)\n",
    "    c = 0\n",
    "    for item in itemPrefs:\n",
    "        # Status updates for large datasets\n",
    "        c += 1 \n",
    "        if c%100==0: print(\"%d / %d\" %(c, len(itemPrefs)))\n",
    "        # Find the most similar items to this one \n",
    "        scores = top_matches(itemPrefs, item, n=n, similarity=cosine_similarity)\n",
    "        result[item]=scores\n",
    "    return result"
   ]
  },
  {
   "cell_type": "code",
   "execution_count": 27,
   "metadata": {
    "collapsed": true
   },
   "outputs": [],
   "source": [
    "def getRecommendedItems(prefs, itemMatches, user):\n",
    "    userRatings = prefs[user]\n",
    "    scores = {}\n",
    "    totalSim = {}\n",
    "    \n",
    "    #Loop over items rated by the user\n",
    "    for (item,rating) in userRatings.items():\n",
    "        \n",
    "        # Loop over items similar to this one \n",
    "        for (similarity,item2) in itemMatches[item]:\n",
    "            \n",
    "            if item2 in userRatings: continue \n",
    "            \n",
    "            # Weighted sum of rating times similarity\n",
    "            \n",
    "            scores.setdefault(item2,0)\n",
    "            scores[item2] += similarity*rating\n",
    "            \n",
    "            # Sum of all the similarities\n",
    "            \n",
    "            totalSim.setdefault(item2,0)\n",
    "            totalSim[item2] += similarity\n",
    "            \n",
    "    # Divide each total score by the total weighting to get an average\n",
    "    rankings = [(score/totalSim[item],item) for item,score in scores.items()]\n",
    "    \n",
    "    # Return the rankings from highest to lowest \n",
    "    rankings.sort()\n",
    "    rankings.reverse()\n",
    "    return rankings"
   ]
  },
  {
   "cell_type": "code",
   "execution_count": 28,
   "metadata": {
    "collapsed": false
   },
   "outputs": [
    {
     "data": {
      "text/plain": [
       "[(3.1877460052395947, 'Just My Luck'),\n",
       " (3.1774592782687061, 'The Night Listener'),\n",
       " (3.177060614435486, 'Lady in the Water')]"
      ]
     },
     "execution_count": 28,
     "metadata": {},
     "output_type": "execute_result"
    }
   ],
   "source": [
    "itemsim = calculateSimilarItems(critics)\n",
    "getRecommendedItems(critics, itemsim, 'Toby')"
   ]
  },
  {
   "cell_type": "markdown",
   "metadata": {},
   "source": [
    "## Let's use the Movies DataSet"
   ]
  },
  {
   "cell_type": "code",
   "execution_count": 29,
   "metadata": {
    "collapsed": false
   },
   "outputs": [],
   "source": [
    "import pandas as pd \n",
    "data = pd.read_csv('ml-latest-small/ratings.csv')"
   ]
  },
  {
   "cell_type": "code",
   "execution_count": 30,
   "metadata": {
    "collapsed": false
   },
   "outputs": [],
   "source": [
    "def loadMovieLens(path='ml-latest-small'):\n",
    "    \n",
    "    # Get movies titles\n",
    "    movies = {}\n",
    "    with open(path+'/movies.csv') as f:\n",
    "        next(f)\n",
    "        for line in f:\n",
    "            (id_,title) = line.split(',')[0:2]\n",
    "            movies[id_] = title\n",
    "        \n",
    "    # Load the data \n",
    "    prefs={}\n",
    "    with open(path+'/ratings.csv') as f:\n",
    "        next(f)\n",
    "        for line in f:\n",
    "            user,movieid,rating,ts =line.split(',')\n",
    "            prefs.setdefault(user,{})\n",
    "            prefs[user][movies[movieid]]= float(rating)\n",
    "    return prefs    "
   ]
  },
  {
   "cell_type": "code",
   "execution_count": 31,
   "metadata": {
    "collapsed": false
   },
   "outputs": [],
   "source": [
    "prefs = loadMovieLens()"
   ]
  },
  {
   "cell_type": "code",
   "execution_count": 32,
   "metadata": {
    "collapsed": false
   },
   "outputs": [
    {
     "data": {
      "text/plain": [
       "{'\"Birdcage': 4.0,\n",
       " '\"Rock': 3.0,\n",
       " 'Beavis and Butt-Head Do America (1996)': 2.0,\n",
       " 'Black Sheep (1996)': 3.0,\n",
       " 'Broken Arrow (1996)': 3.0,\n",
       " 'Cold Comfort Farm (1995)': 5.0,\n",
       " 'Eraser (1996)': 3.0,\n",
       " 'Executive Decision (1996)': 4.0,\n",
       " 'Fargo (1996)': 5.0,\n",
       " 'Happy Gilmore (1996)': 4.0,\n",
       " 'Independence Day (a.k.a. ID4) (1996)': 3.0,\n",
       " 'Kids in the Hall: Brain Candy (1996)': 3.0,\n",
       " 'Kingpin (1996)': 4.0,\n",
       " 'Leaving Las Vegas (1995)': 4.0,\n",
       " 'L\\xc3\\xa9on: The Professional (a.k.a. The Professional) (L\\xc3\\xa9on) (1994)': 5.0,\n",
       " 'Mighty Aphrodite (1995)': 4.0,\n",
       " 'Mission: Impossible (1996)': 3.0,\n",
       " \"Mr. Holland's Opus (1995)\": 1.0,\n",
       " 'Phenomenon (1996)': 3.0,\n",
       " 'Rumble in the Bronx (Hont faan kui) (1995)': 3.0,\n",
       " 'Sabrina (1995)': 3.0,\n",
       " 'Shine (1996)': 5.0,\n",
       " 'Star Wars: Episode IV - A New Hope (1977)': 4.0,\n",
       " 'Star Wars: Episode VI - Return of the Jedi (1983)': 3.0,\n",
       " 'Striptease (1996)': 3.0,\n",
       " 'Tin Cup (1996)': 1.0,\n",
       " 'Toy Story (1995)': 3.0,\n",
       " 'Trainspotting (1996)': 3.0,\n",
       " 'Twelve Monkeys (a.k.a. 12 Monkeys) (1995)': 3.0,\n",
       " 'Twister (1996)': 2.0,\n",
       " 'Willy Wonka & the Chocolate Factory (1971)': 3.0}"
      ]
     },
     "execution_count": 32,
     "metadata": {},
     "output_type": "execute_result"
    }
   ],
   "source": [
    "prefs['87']"
   ]
  },
  {
   "cell_type": "code",
   "execution_count": 33,
   "metadata": {
    "collapsed": false
   },
   "outputs": [
    {
     "data": {
      "text/plain": [
       "[(5.0000000000000009, 'Z Channel: A Magnificent Obsession (2004)'),\n",
       " (5.0000000000000009, 'Wild Zero (2000)'),\n",
       " (5.0000000000000009, 'Walker (1987)'),\n",
       " (5.0000000000000009, 'Undertow (2004)'),\n",
       " (5.0000000000000009, 'Totally F***ed Up (1993)'),\n",
       " (5.0000000000000009,\n",
       "  'Through the Olive Trees (Zire darakhatan zeyton) (1994)'),\n",
       " (5.0000000000000009, \"Prospero's Books (1991)\"),\n",
       " (5.0000000000000009, 'Palindromes (2004)'),\n",
       " (5.0000000000000009, 'Padre padrone (1977)'),\n",
       " (5.0000000000000009, 'Offside (2006)'),\n",
       " (5.0000000000000009, \"Max Keeble's Big Move (2001)\"),\n",
       " (5.0000000000000009, \"Love Me If You Dare (Jeux d'enfants) (2003)\"),\n",
       " (5.0000000000000009, 'Howl (2010)'),\n",
       " (5.0000000000000009, 'Fox and His Friends (Faustrecht der Freiheit) (1975)'),\n",
       " (5.0000000000000009, 'Fireworks Wednesday (Chaharshanbe-soori) (2006)'),\n",
       " (5.0000000000000009, 'Fiorile (1993)'),\n",
       " (5.0000000000000009, \"Eaux d'artifice (1953)\"),\n",
       " (5.0000000000000009, 'Dream a Little Dream (1989)'),\n",
       " (5.0000000000000009, 'Cul-de-sac (1966)'),\n",
       " (5.0000000000000009, 'Caesar Must Die (Cesare deve morire) (2012)'),\n",
       " (5.0000000000000009, 'Blackrock (1997)'),\n",
       " (5.0000000000000009, 'Aria (1987)'),\n",
       " (5.0000000000000009, '\"Saddest Music in the World'),\n",
       " (5.0000000000000009, '\"Patience Stone'),\n",
       " (5.0000000000000009, '\"Past'),\n",
       " (5.0000000000000009, '\"Not Quite Hollywood: The Wild'),\n",
       " (5.0000000000000009, '\"Night of the Shooting Stars (Notte di San Lorenzo'),\n",
       " (5.0000000000000009, '\"Manson Family'),\n",
       " (5.0000000000000009, '\"Journey'),\n",
       " (5.0000000000000009, '\"End')]"
      ]
     },
     "execution_count": 33,
     "metadata": {},
     "output_type": "execute_result"
    }
   ],
   "source": [
    "getRecommendations(prefs,'87')[0:30]"
   ]
  },
  {
   "cell_type": "code",
   "execution_count": 34,
   "metadata": {
    "collapsed": false
   },
   "outputs": [
    {
     "name": "stdout",
     "output_type": "stream",
     "text": [
      "100 / 8963\n",
      "200 / 8963\n",
      "300 / 8963\n",
      "400 / 8963\n",
      "500 / 8963\n",
      "600 / 8963\n",
      "700 / 8963\n",
      "800 / 8963\n",
      "900 / 8963\n",
      "1000 / 8963\n",
      "1100 / 8963\n",
      "1200 / 8963\n",
      "1300 / 8963\n",
      "1400 / 8963\n",
      "1500 / 8963\n",
      "1600 / 8963\n",
      "1700 / 8963\n",
      "1800 / 8963\n",
      "1900 / 8963\n",
      "2000 / 8963\n",
      "2100 / 8963\n",
      "2200 / 8963\n",
      "2300 / 8963\n",
      "2400 / 8963\n",
      "2500 / 8963\n",
      "2600 / 8963\n",
      "2700 / 8963\n",
      "2800 / 8963\n",
      "2900 / 8963\n",
      "3000 / 8963\n",
      "3100 / 8963\n",
      "3200 / 8963\n",
      "3300 / 8963\n",
      "3400 / 8963\n",
      "3500 / 8963\n",
      "3600 / 8963\n",
      "3700 / 8963\n",
      "3800 / 8963\n",
      "3900 / 8963\n",
      "4000 / 8963\n",
      "4100 / 8963\n",
      "4200 / 8963\n",
      "4300 / 8963\n",
      "4400 / 8963\n",
      "4500 / 8963\n",
      "4600 / 8963\n",
      "4700 / 8963\n",
      "4800 / 8963\n",
      "4900 / 8963\n",
      "5000 / 8963\n",
      "5100 / 8963\n",
      "5200 / 8963\n",
      "5300 / 8963\n",
      "5400 / 8963\n",
      "5500 / 8963\n",
      "5600 / 8963\n",
      "5700 / 8963\n",
      "5800 / 8963\n",
      "5900 / 8963\n",
      "6000 / 8963\n",
      "6100 / 8963\n",
      "6200 / 8963\n",
      "6300 / 8963\n",
      "6400 / 8963\n",
      "6500 / 8963\n",
      "6600 / 8963\n",
      "6700 / 8963\n",
      "6800 / 8963\n",
      "6900 / 8963\n",
      "7000 / 8963\n",
      "7100 / 8963\n",
      "7200 / 8963\n",
      "7300 / 8963\n",
      "7400 / 8963\n",
      "7500 / 8963\n",
      "7600 / 8963\n",
      "7700 / 8963\n",
      "7800 / 8963\n",
      "7900 / 8963\n",
      "8000 / 8963\n",
      "8100 / 8963\n",
      "8200 / 8963\n",
      "8300 / 8963\n",
      "8400 / 8963\n",
      "8500 / 8963\n",
      "8600 / 8963\n",
      "8700 / 8963\n",
      "8800 / 8963\n",
      "8900 / 8963\n"
     ]
    }
   ],
   "source": [
    "itemsim = calculateSimilarItems(prefs, n = 30)"
   ]
  },
  {
   "cell_type": "code",
   "execution_count": 43,
   "metadata": {
    "collapsed": false
   },
   "outputs": [
    {
     "ename": "KeyError",
     "evalue": "'L\\xc3\\xa9on: The Professional (a.k.a. The Professional) (L\\xc3\\xa9on) (1994)'",
     "output_type": "error",
     "traceback": [
      "\u001b[0;31m---------------------------------------------------------------------------\u001b[0m",
      "\u001b[0;31mKeyError\u001b[0m                                  Traceback (most recent call last)",
      "\u001b[0;32m<ipython-input-43-2ce166d4b029>\u001b[0m in \u001b[0;36m<module>\u001b[0;34m()\u001b[0m\n\u001b[0;32m----> 1\u001b[0;31m \u001b[0mgetRecommendedItems\u001b[0m\u001b[0;34m(\u001b[0m\u001b[0mprefs\u001b[0m\u001b[0;34m,\u001b[0m \u001b[0mitem_dict\u001b[0m\u001b[0;34m,\u001b[0m \u001b[0;34m'87'\u001b[0m\u001b[0;34m)\u001b[0m\u001b[0;34m[\u001b[0m\u001b[0;34m-\u001b[0m\u001b[0;36m10\u001b[0m\u001b[0;34m:\u001b[0m\u001b[0;34m]\u001b[0m\u001b[0;34m\u001b[0m\u001b[0m\n\u001b[0m",
      "\u001b[0;32m<ipython-input-15-bc6387d265f4>\u001b[0m in \u001b[0;36mgetRecommendedItems\u001b[0;34m(prefs, itemMatches, user)\u001b[0m\n\u001b[1;32m      8\u001b[0m \u001b[0;34m\u001b[0m\u001b[0m\n\u001b[1;32m      9\u001b[0m         \u001b[0;31m# Loop over items similar to this one\u001b[0m\u001b[0;34m\u001b[0m\u001b[0;34m\u001b[0m\u001b[0m\n\u001b[0;32m---> 10\u001b[0;31m         \u001b[0;32mfor\u001b[0m \u001b[0;34m(\u001b[0m\u001b[0msimilarity\u001b[0m\u001b[0;34m,\u001b[0m\u001b[0mitem2\u001b[0m\u001b[0;34m)\u001b[0m \u001b[0;32min\u001b[0m \u001b[0mitemMatches\u001b[0m\u001b[0;34m[\u001b[0m\u001b[0mitem\u001b[0m\u001b[0;34m]\u001b[0m\u001b[0;34m:\u001b[0m\u001b[0;34m\u001b[0m\u001b[0m\n\u001b[0m\u001b[1;32m     11\u001b[0m \u001b[0;34m\u001b[0m\u001b[0m\n\u001b[1;32m     12\u001b[0m             \u001b[0;32mif\u001b[0m \u001b[0mitem2\u001b[0m \u001b[0;32min\u001b[0m \u001b[0muserRatings\u001b[0m\u001b[0;34m:\u001b[0m \u001b[0;32mcontinue\u001b[0m\u001b[0;34m\u001b[0m\u001b[0m\n",
      "\u001b[0;31mKeyError\u001b[0m: 'L\\xc3\\xa9on: The Professional (a.k.a. The Professional) (L\\xc3\\xa9on) (1994)'"
     ]
    }
   ],
   "source": [
    "getRecommendedItems(prefs, item_dict, '87')[-10:]"
   ]
  },
  {
   "cell_type": "code",
   "execution_count": 44,
   "metadata": {
    "collapsed": false
   },
   "outputs": [
    {
     "data": {
      "text/plain": [
       "{'\"Birdcage': 4.0,\n",
       " '\"Rock': 3.0,\n",
       " 'Beavis and Butt-Head Do America (1996)': 2.0,\n",
       " 'Black Sheep (1996)': 3.0,\n",
       " 'Broken Arrow (1996)': 3.0,\n",
       " 'Cold Comfort Farm (1995)': 5.0,\n",
       " 'Eraser (1996)': 3.0,\n",
       " 'Executive Decision (1996)': 4.0,\n",
       " 'Fargo (1996)': 5.0,\n",
       " 'Happy Gilmore (1996)': 4.0,\n",
       " 'Independence Day (a.k.a. ID4) (1996)': 3.0,\n",
       " 'Kids in the Hall: Brain Candy (1996)': 3.0,\n",
       " 'Kingpin (1996)': 4.0,\n",
       " 'Leaving Las Vegas (1995)': 4.0,\n",
       " 'L\\xc3\\xa9on: The Professional (a.k.a. The Professional) (L\\xc3\\xa9on) (1994)': 5.0,\n",
       " 'Mighty Aphrodite (1995)': 4.0,\n",
       " 'Mission: Impossible (1996)': 3.0,\n",
       " \"Mr. Holland's Opus (1995)\": 1.0,\n",
       " 'Phenomenon (1996)': 3.0,\n",
       " 'Rumble in the Bronx (Hont faan kui) (1995)': 3.0,\n",
       " 'Sabrina (1995)': 3.0,\n",
       " 'Shine (1996)': 5.0,\n",
       " 'Star Wars: Episode IV - A New Hope (1977)': 4.0,\n",
       " 'Star Wars: Episode VI - Return of the Jedi (1983)': 3.0,\n",
       " 'Striptease (1996)': 3.0,\n",
       " 'Tin Cup (1996)': 1.0,\n",
       " 'Toy Story (1995)': 3.0,\n",
       " 'Trainspotting (1996)': 3.0,\n",
       " 'Twelve Monkeys (a.k.a. 12 Monkeys) (1995)': 3.0,\n",
       " 'Twister (1996)': 2.0,\n",
       " 'Willy Wonka & the Chocolate Factory (1971)': 3.0}"
      ]
     },
     "execution_count": 44,
     "metadata": {},
     "output_type": "execute_result"
    }
   ],
   "source": [
    "prefs['87']"
   ]
  },
  {
   "cell_type": "code",
   "execution_count": 35,
   "metadata": {
    "collapsed": false
   },
   "outputs": [],
   "source": [
    "import json\n",
    "with open('item_sim_cos','w') as f:\n",
    "    json.dump(itemsim,f)"
   ]
  },
  {
   "cell_type": "code",
   "execution_count": 37,
   "metadata": {
    "collapsed": false
   },
   "outputs": [],
   "source": [
    "import json \n",
    "with open('item_sim_cos', 'rb') as f:\n",
    "    item_dict = json.load(f)"
   ]
  },
  {
   "cell_type": "code",
   "execution_count": 38,
   "metadata": {
    "collapsed": false
   },
   "outputs": [
    {
     "data": {
      "text/plain": [
       "[[1.0000000000000002, u'Step Up (2006)'],\n",
       " [1.0000000000000002, u'Star Trek IV: The Voyage Home (1986)'],\n",
       " [1.0000000000000002, u'Soylent Green (1973)'],\n",
       " [1.0000000000000002, u'Pretty in Pink (1986)'],\n",
       " [1.0000000000000002, u'Lethal Weapon 4 (1998)'],\n",
       " [1.0000000000000002, u'\"Devil\\'s Backbone'],\n",
       " [1.0, u'\\xc0 nous la libert\\xe9 (Freedom for Us) (1931)'],\n",
       " [1.0, u'\\xa1Three Amigos! (1986)'],\n",
       " [1.0, u'xXx: State of the Union (2005)'],\n",
       " [1.0, u'eXistenZ (1999)'],\n",
       " [1.0, u'[REC] (2007)'],\n",
       " [1.0, u'Zoom (2006)'],\n",
       " [1.0, u'Zoolander 2 (2016)'],\n",
       " [1.0, u'Zombie (a.k.a. Zombie 2: The Dead Are Among Us) (Zombi 2) (1979)'],\n",
       " [1.0, u'Zero Effect (1998)'],\n",
       " [1.0, u'Zelig (1983)'],\n",
       " [1.0, u'Zeitgeist: The Movie (2007)'],\n",
       " [1.0, u'Zach Galifianakis: Live at the Purple Onion (2006)'],\n",
       " [1.0, u'Yu-Gi-Oh! (2004)'],\n",
       " [1.0, u'Youth of the Beast (Yaju no seishun) (1963)'],\n",
       " [1.0, u'Youth in Revolt (2009)'],\n",
       " [1.0, u\"Your Sister's Sister (2011)\"],\n",
       " [1.0, u'Your Highness (2011)'],\n",
       " [1.0, u'Young People Fucking (a.k.a. YPF) (2007)'],\n",
       " [1.0, u'Young Frankenstein (1974)'],\n",
       " [1.0, u'You Only Live Twice (1967)'],\n",
       " [1.0, u'You Kill Me (2007)'],\n",
       " [1.0, u\"You Don't Know Jack (2010)\"],\n",
       " [1.0, u'You Can Count on Me (2000)'],\n",
       " [1.0, u'You Again (2010)']]"
      ]
     },
     "execution_count": 38,
     "metadata": {},
     "output_type": "execute_result"
    }
   ],
   "source": [
    "item_dict['Harry Potter and the Deathly Hallows: Part 1 (2010)']"
   ]
  },
  {
   "cell_type": "code",
   "execution_count": 39,
   "metadata": {
    "collapsed": true
   },
   "outputs": [],
   "source": [
    "new_users = {'1' : {'Harry Potter and the Goblet of Fire (2005)' : 5.0,\n",
    "                    'Harry Potter and the Half-Blood Prince (2009)' : 5.0,\n",
    "                    'Harry Potter and the Order of the Phoenix (2007)': 5.0,\n",
    "                    'Harry Potter and the Deathly Hallows: Part 1 (2010)': 5.0},\n",
    "             '2' :  {'Toy Story (1995)': 4.5,\n",
    "                     'Willy Wonka & the Chocolate Factory (1971)': 4.5}}\n",
    "             "
   ]
  },
  {
   "cell_type": "code",
   "execution_count": 40,
   "metadata": {
    "collapsed": false
   },
   "outputs": [
    {
     "data": {
      "text/plain": [
       "[(5.0, u'\\xc0 nous la libert\\xe9 (Freedom for Us) (1931)'),\n",
       " (5.0, u'\\xa1Three Amigos! (1986)'),\n",
       " (5.0, u'xXx: State of the Union (2005)'),\n",
       " (5.0, u'loudQUIETloud: A Film About the Pixies (2006)'),\n",
       " (5.0, u'eXistenZ (1999)'),\n",
       " (5.0, u'[REC] (2007)'),\n",
       " (5.0, u'Zorba the Greek (Alexis Zorbas) (1964)'),\n",
       " (5.0, u'Zoom (2006)'),\n",
       " (5.0, u'Zoolander 2 (2016)'),\n",
       " (5.0, u'Zombie (a.k.a. Zombie 2: The Dead Are Among Us) (Zombi 2) (1979)'),\n",
       " (5.0, u'Zero Effect (1998)'),\n",
       " (5.0, u'Zelig (1983)'),\n",
       " (5.0, u'Zelary (2003)'),\n",
       " (5.0, u'Zeitgeist: The Movie (2007)'),\n",
       " (5.0, u'Zack and Miri Make a Porno (2008)'),\n",
       " (5.0, u'Zach Galifianakis: Live at the Purple Onion (2006)'),\n",
       " (5.0, u'Yu-Gi-Oh! (2004)'),\n",
       " (5.0, u'Youth of the Beast (Yaju no seishun) (1963)'),\n",
       " (5.0, u'Youth in Revolt (2009)'),\n",
       " (5.0, u\"Your Sister's Sister (2011)\"),\n",
       " (5.0, u'Your Highness (2011)'),\n",
       " (5.0, u'Young at Heart (a.k.a. Young@Heart) (2007)'),\n",
       " (5.0, u'Young People Fucking (a.k.a. YPF) (2007)'),\n",
       " (5.0, u'Young Guns II (1990)'),\n",
       " (5.0, u'Young Guns (1988)'),\n",
       " (5.0, u'Young Frankenstein (1974)'),\n",
       " (5.0, u'You Will Meet a Tall Dark Stranger (2010)'),\n",
       " (5.0, u'You Only Live Twice (1967)'),\n",
       " (5.0, u'You Kill Me (2007)'),\n",
       " (5.0, u\"You Don't Know Jack (2010)\"),\n",
       " (5.0, u\"You Can't Take It with You (1938)\"),\n",
       " (5.0, u'You Can Count on Me (2000)'),\n",
       " (5.0, u'You Again (2010)'),\n",
       " (5.0, u'Yojimbo (1961)'),\n",
       " (5.0, u'Yentl (1983)'),\n",
       " (5.0, u'Yellow Submarine (1968)'),\n",
       " (5.0, u'Year One (2009)'),\n",
       " (5.0, u'Xanadu (1980)'),\n",
       " (5.0, u'X-Men: Apocalypse (2016)'),\n",
       " (5.0, u'Wyatt Earp (1994)'),\n",
       " (5.0, u'Wuthering Heights (1992)'),\n",
       " (5.0, u'Wrong Turn (2003)'),\n",
       " (5.0, u'Wristcutters: A Love Story (2006)'),\n",
       " (5.0, u'Wrath of the Titans (2012)'),\n",
       " (5.0, u\"World's Greatest Dad (2009)\"),\n",
       " (5.0, u'World of Tomorrow (2015)'),\n",
       " (5.0, u'World Trade Center (2006)'),\n",
       " (5.0, u'Unleashed (Danny the Dog) (2005)'),\n",
       " (5.0, u'Three Kings (1999)'),\n",
       " (5.0, u'Step Up (2006)'),\n",
       " (5.0, u'Star Trek IV: The Voyage Home (1986)'),\n",
       " (5.0, u'Soylent Green (1973)'),\n",
       " (5.0, u'RoboCop 2 (1990)'),\n",
       " (5.0, u'Rambo: First Blood Part II (1985)'),\n",
       " (5.0, u'Pretty in Pink (1986)'),\n",
       " (5.0, u'Moonstruck (1987)'),\n",
       " (5.0, u'Louis C.K.: Hilarious (2010)'),\n",
       " (5.0, u'Lethal Weapon 4 (1998)'),\n",
       " (5.0, u'Jeepers Creepers (2001)'),\n",
       " (5.0, u'High Art (1998)'),\n",
       " (5.0, u'Frequency (2000)'),\n",
       " (5.0, u'East is East (1999)'),\n",
       " (5.0, u'10 Cloverfield Lane (2016)'),\n",
       " (5.0, u'\"Onion Movie'),\n",
       " (5.0, u'\"Invasion'),\n",
       " (5.0, u'\"Devil\\'s Backbone'),\n",
       " (5.0, u'\"Blues Brothers')]"
      ]
     },
     "execution_count": 40,
     "metadata": {},
     "output_type": "execute_result"
    }
   ],
   "source": [
    "getRecommendedItems(new_users, item_dict, '1')"
   ]
  },
  {
   "cell_type": "code",
   "execution_count": 30,
   "metadata": {
    "collapsed": false
   },
   "outputs": [],
   "source": [
    "harry_list = [] \n",
    "for movie_name in item_dict.keys():\n",
    "    if 'Harry Potter' in movie_name:\n",
    "        harry_list.append(movie_name)\n",
    "    "
   ]
  },
  {
   "cell_type": "code",
   "execution_count": 31,
   "metadata": {
    "collapsed": false
   },
   "outputs": [
    {
     "name": "stdout",
     "output_type": "stream",
     "text": [
      "[u'Harry Potter and the Goblet of Fire (2005)', u'Harry Potter and the Half-Blood Prince (2009)', u'Harry Potter and the Order of the Phoenix (2007)', u\"Harry Potter and the Sorcerer's Stone (a.k.a. Harry Potter and the Philosopher's Stone) (2001)\", u'Harry Potter and the Prisoner of Azkaban (2004)', u'Harry Potter and the Deathly Hallows: Part 2 (2011)', u'Harry Potter and the Chamber of Secrets (2002)', u'Harry Potter and the Deathly Hallows: Part 1 (2010)']\n"
     ]
    }
   ],
   "source": [
    "print(harry_list)"
   ]
  },
  {
   "cell_type": "code",
   "execution_count": 57,
   "metadata": {
    "collapsed": false
   },
   "outputs": [
    {
     "data": {
      "text/plain": [
       "[[1.000000000000007, u'Invasion of the Body Snatchers (1956)'],\n",
       " [1.000000000000007, u'\"Deep End'],\n",
       " [1.0000000000000033, u'Nymphomaniac: Volume I (2013)'],\n",
       " [1.0000000000000018, u'Far from Heaven (2002)'],\n",
       " [1.0000000000000018, u'Central Station (Central do Brasil) (1998)'],\n",
       " [1.0000000000000018, u'Arsenic and Old Lace (1944)'],\n",
       " [1.0000000000000007, u'Romeo Must Die (2000)'],\n",
       " [1.0000000000000007, u'Bambi (1942)'],\n",
       " [1.0000000000000004, u'Diner (1982)'],\n",
       " [1.0, u'Zelig (1983)'],\n",
       " [1.0, u'You Kill Me (2007)'],\n",
       " [1.0, u'Yes Man (2008)'],\n",
       " [1.0, u'Year One (2009)'],\n",
       " [1.0, u'X-Men: Apocalypse (2016)'],\n",
       " [1.0, u'Wrong Turn (2003)'],\n",
       " [1.0, u'Wristcutters: A Love Story (2006)'],\n",
       " [1.0,\n",
       "  u'Women on the Verge of a Nervous Breakdown (Mujeres al borde de un ataque de nervios) (1988)'],\n",
       " [1.0, u\"William Shakespeare's A Midsummer Night's Dream (1999)\"],\n",
       " [1.0, u'Wild Tales (2014)'],\n",
       " [1.0, u'White Chicks (2004)'],\n",
       " [1.0, u\"Weekend at Bernie's (1989)\"],\n",
       " [1.0, u'Warm Bodies (2013)'],\n",
       " [1.0, u'Warcraft (2016)'],\n",
       " [1.0, u'Walking Tall (2004)'],\n",
       " [1.0, u'Victor/Victoria (1982)'],\n",
       " [1.0, u'Valkyrie (2008)'],\n",
       " [1.0, u'Up Close and Personal (1996)'],\n",
       " [1.0, u'Under the Skin (2013)'],\n",
       " [1.0, u'Under Siege 2: Dark Territory (1995)'],\n",
       " [1.0, u'Two for the Road (1967)'],\n",
       " [1.0, u'Two Girls and a Guy (1997)'],\n",
       " [1.0, u'Turistas (2006)'],\n",
       " [1.0, u'Tucker & Dale vs Evil (2010)'],\n",
       " [1.0, u'Triangle (2009)'],\n",
       " [1.0, u'Tremors (1990)'],\n",
       " [1.0, u'Transformers: The Movie (1986)'],\n",
       " [1.0, u'Transcendence (2014)'],\n",
       " [1.0, u'Traitor (2008)'],\n",
       " [1.0, u'Tomorrowland (2015)'],\n",
       " [1.0, u'Thursday (1998)'],\n",
       " [1.0, u'Three Seasons (1999)'],\n",
       " [1.0, u'Three Days of the Condor (3 Days of the Condor) (1975)'],\n",
       " [1.0, u'This Is 40 (2012)'],\n",
       " [1.0, u\"Things to Do in Denver When You're Dead (1995)\"],\n",
       " [1.0, u'The Raid: Redemption (2011)'],\n",
       " [1.0, u'The Nice Guys (2016)'],\n",
       " [1.0, u'The Man from U.N.C.L.E. (2015)'],\n",
       " [1.0, u'The Jungle Book (2016)'],\n",
       " [1.0, u'The Hunger Games: Mockingjay - Part 2 (2015)'],\n",
       " [1.0, u'The Hateful Eight (2015)'],\n",
       " [1.0, u'The Drop (2014)'],\n",
       " [1.0, u'The Amazing Spider-Man 2 (2014)'],\n",
       " [1.0, u'Tenacious D in The Pick of Destiny (2006)'],\n",
       " [1.0, u'Tell No One (Ne le dis \\xe0 personne) (2006)'],\n",
       " [1.0, u'Teenage Mutant Ninja Turtles II: The Secret of the Ooze (1991)'],\n",
       " [1.0, u'Teen Wolf (1985)'],\n",
       " [1.0, u'Tales from the Hood (1995)'],\n",
       " [1.0, u'Taking Lives (2004)'],\n",
       " [1.0, u'Sweet and Lowdown (1999)'],\n",
       " [1.0, u'Superman III (1983)'],\n",
       " [1.0, u'Suicide Club (Jisatsu saakuru) (2001)'],\n",
       " [1.0, u'Sucker Punch (2011)'],\n",
       " [1.0, u'Stuart Little 2 (2002)'],\n",
       " [1.0, u'Strictly Ballroom (1992)'],\n",
       " [1.0, u'Strangers on a Train (1951)'],\n",
       " [1.0, u'Stealth (2005)'],\n",
       " [1.0, u'Star Trek: Insurrection (1998)'],\n",
       " [1.0, u'Spy Hard (1996)'],\n",
       " [1.0, u'Spice World (1997)'],\n",
       " [1.0, u'Spartan (2004)'],\n",
       " [1.0, u'Snow Dogs (2002)'],\n",
       " [1.0, u'Small Soldiers (1998)'],\n",
       " [1.0, u'Sleuth (1972)'],\n",
       " [1.0, u'Slacker (1991)'],\n",
       " [1.0, u'Skyline (2010)'],\n",
       " [1.0, u'Single White Female (1992)'],\n",
       " [1.0, u'Shooter (2007)'],\n",
       " [1.0, u'Shoot the Piano Player (Tirez sur le pianiste) (1960)'],\n",
       " [1.0, u'Shampoo (1975)'],\n",
       " [1.0, u'Shadow of the Vampire (2000)'],\n",
       " [1.0, u'Seven Days in May (1964)'],\n",
       " [1.0, u'Serial Mom (1994)'],\n",
       " [1.0, u'Scoop (2006)'],\n",
       " [1.0, u'Scarface (1932)'],\n",
       " [1.0, u'Santa Sangre (1989)'],\n",
       " [1.0, u'Safety Not Guaranteed (2012)'],\n",
       " [1.0, u'Rush Hour 3 (2007)'],\n",
       " [1.0, u'Rosetta (1999)'],\n",
       " [1.0, u'Room 237 (2012)'],\n",
       " [1.0, u'RocknRolla (2008)'],\n",
       " [1.0, u'RoboCop (2014)'],\n",
       " [1.0, u'Rivers and Tides (2001)'],\n",
       " [1.0, u'Revolver (2005)'],\n",
       " [1.0, u'Resident Evil: Afterlife (2010)'],\n",
       " [1.0, u'Red Planet (2000)'],\n",
       " [1.0, u'Red Eye (2005)'],\n",
       " [1.0, u'Red 2 (2013)'],\n",
       " [1.0, u'Ready to Wear (Pret-A-Porter) (1994)'],\n",
       " [1.0, u'Rashomon (Rash\\xf4mon) (1950)'],\n",
       " [1.0, u'Quick Change (1990)']]"
      ]
     },
     "execution_count": 57,
     "metadata": {},
     "output_type": "execute_result"
    }
   ],
   "source": [
    "item_dict.values()[10]"
   ]
  },
  {
   "cell_type": "code",
   "execution_count": 59,
   "metadata": {
    "collapsed": true
   },
   "outputs": [],
   "source": [
    "itemPrefs = transformPrefs(prefs)"
   ]
  },
  {
   "cell_type": "code",
   "execution_count": 9,
   "metadata": {
    "collapsed": false
   },
   "outputs": [],
   "source": [
    "from scipy import spatial\n",
    "\n",
    "def cosine_similarity(prefs,p1,p2):\n",
    "    \n",
    "    #Get list of mutual interests\n",
    "    si = {}\n",
    "    for item in prefs[p1]:\n",
    "        if item in prefs[p2]:\n",
    "            si[item] = 1\n",
    "        \n",
    "    n = len(si)\n",
    "    if n == 0:\n",
    "        return 0 \n",
    "    \n",
    "    # Calculate cosine similarity\n",
    "    df1 = [prefs[p1][it] for it in si]\n",
    "    df2 = [prefs[p2][it] for it in si]\n",
    "    r = 1 - spatial.distance.cosine(df1,df2)\n",
    "    return r"
   ]
  },
  {
   "cell_type": "code",
   "execution_count": 10,
   "metadata": {
    "collapsed": false
   },
   "outputs": [
    {
     "data": {
      "text/plain": [
       "0.96064630139802409"
      ]
     },
     "execution_count": 10,
     "metadata": {},
     "output_type": "execute_result"
    }
   ],
   "source": [
    "cosine_similarity(critics, 'Lisa Rose', 'Gene Seymour')"
   ]
  },
  {
   "cell_type": "code",
   "execution_count": 19,
   "metadata": {
    "collapsed": false
   },
   "outputs": [
    {
     "data": {
      "text/plain": [
       "[(0.99083016804429891, 'Michael Phillips'),\n",
       " (0.97361631056780096, 'Mick LaSalle'),\n",
       " (0.95540583589057559, 'Claudia Puig')]"
      ]
     },
     "execution_count": 19,
     "metadata": {},
     "output_type": "execute_result"
    }
   ],
   "source": [
    "top_matches(critics, 'Toby', n = 3)"
   ]
  },
  {
   "cell_type": "code",
   "execution_count": null,
   "metadata": {
    "collapsed": true
   },
   "outputs": [],
   "source": []
  }
 ],
 "metadata": {
  "kernelspec": {
   "display_name": "Python 2",
   "language": "python",
   "name": "python2"
  },
  "language_info": {
   "codemirror_mode": {
    "name": "ipython",
    "version": 2
   },
   "file_extension": ".py",
   "mimetype": "text/x-python",
   "name": "python",
   "nbconvert_exporter": "python",
   "pygments_lexer": "ipython2",
   "version": "2.7.11"
  }
 },
 "nbformat": 4,
 "nbformat_minor": 0
}
